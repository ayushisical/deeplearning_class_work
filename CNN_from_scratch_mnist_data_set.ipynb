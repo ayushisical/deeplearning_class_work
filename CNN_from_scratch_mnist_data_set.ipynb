{
  "cells": [
    {
      "cell_type": "code",
      "execution_count": null,
      "metadata": {
        "id": "HXaGTG8Gypfl"
      },
      "outputs": [],
      "source": [
        "import numpy as np\n",
        "from numpy import asarray\n",
        "import cv2\n",
        "import matplotlib.pyplot as plt"
      ]
    },
    {
      "cell_type": "code",
      "source": [],
      "metadata": {
        "id": "k33xYaJHhwsa"
      },
      "execution_count": null,
      "outputs": []
    },
    {
      "cell_type": "markdown",
      "metadata": {
        "id": "cK-7QlY4bnJu"
      },
      "source": [
        " CONVOLUTION LAYER WITH BACK AND FORWARD PROP\n",
        "\n"
      ]
    },
    {
      "cell_type": "code",
      "execution_count": null,
      "metadata": {
        "id": "C3XzRL1iypab"
      },
      "outputs": [],
      "source": [
        "class Conv_op:\n",
        "  def __init__(self,num_filters,filter_size):\n",
        "    self.num_filters = num_filters\n",
        "    self.filter_size = filter_size\n",
        "    self.conv_filter = np.random.randn(num_filters, filter_size,filter_size)/(filter_size*filter_size)\n",
        "\n",
        "  def image_region(self, image):\n",
        "    height,width =  image.shape\n",
        "    self.image = image\n",
        "    for j in range(height - self.filter_size +1 ):\n",
        "      for k in range(width - self.filter_size +1 ):\n",
        "        image_patch = image[j : (j + self.filter_size),k:(k + self.filter_size)]\n",
        "        yield image_patch, j ,k\n",
        "\n",
        "\n",
        "  def forward_prop(self, image):\n",
        "    height, width = image.shape\n",
        "    conv_out = np.zeros((height - self.filter_size+1, width -self.filter_size+1,self.num_filters ))\n",
        "    for image_patch,i,j in self.image_region(image):\n",
        "      conv_out[i,j]= np.sum(image_patch*self.conv_filter,axis = (1,2))\n",
        "    return conv_out\n",
        "\n",
        "  def back_prop(self,dL_dout,learning_rate):\n",
        "    dL_dF_params = np.zeros(self.conv_filter.shape)\n",
        "    for image_patch,i,j, in self.image_region(self.image):\n",
        "      for k in range(self.num_filters):\n",
        "        dL_dF_params[k] += image_patch*dL_dout[i,j,k]\n",
        "\n",
        "    self.conv_filter -= learning_rate*dL_dF_params\n",
        "    return dL_dF_params"
      ]
    },
    {
      "cell_type": "markdown",
      "metadata": {
        "id": "4Ap5O9Owbuiz"
      },
      "source": [
        "\n",
        "\n",
        "MAX POOL LAYER WITH BACK AND FORWARD PROP"
      ]
    },
    {
      "cell_type": "code",
      "execution_count": null,
      "metadata": {
        "id": "P52uyeSZ1v-o"
      },
      "outputs": [],
      "source": [
        "class Max_pool:\n",
        "  def __init__(self,filter_size):\n",
        "    self.filter_size = filter_size\n",
        "\n",
        "  def image_region(self, image):\n",
        "    new_height = image.shape[0]//self.filter_size\n",
        "    new_width =  image.shape[1]//self.filter_size\n",
        "    self.image = image\n",
        "\n",
        "    for i in range(new_height):\n",
        "      for j in  range(new_width):\n",
        "        image_patch = image[(i*self.filter_size): (i*self.filter_size + self.filter_size),(j*self.filter_size):(j*self.filter_size + self.filter_size )]\n",
        "        yield image_patch , i,j\n",
        "\n",
        "  def forward_prop(self,image):\n",
        "    height,width, num_filters = image.shape\n",
        "    output = np.zeros((height // self.filter_size, width // self.filter_size , num_filters ))\n",
        "\n",
        "    for image_patch , i , j  in self.image_region(image):\n",
        "      output[i,j] = np.amax(image_patch, axis=(0,1))\n",
        "\n",
        "    return output\n",
        "\n",
        "\n",
        "  def back_prop(self,dL_dout):\n",
        "    dL_dmax_pool = np.zeros(self.image.shape)\n",
        "    for image_patch, i,j in self.image_region(self.image):\n",
        "      height,width,num_filters =  image_patch.shape\n",
        "      maximum_val = np.amax(image_patch,axis=(0,1))\n",
        "\n",
        "      for i1 in range(height):\n",
        "        for j1 in range(width):\n",
        "          for k1 in range(num_filters):\n",
        "            if image_patch[i1,j1,k1] == maximum_val[k1]:\n",
        "              dL_dmax_pool[i*self.filter_size + i1, j*self.filter_size + j1,k1] = dL_dout[i,j,k1]\n",
        "\n",
        "      return dL_dmax_pool\n"
      ]
    },
    {
      "cell_type": "markdown",
      "metadata": {
        "id": "mILiHS8fcPfh"
      },
      "source": [
        "SIGMOID LAYER WITH FORWARD AND BACKWARD PROP"
      ]
    },
    {
      "cell_type": "code",
      "execution_count": null,
      "metadata": {
        "id": "HkLfFxGK1v1i"
      },
      "outputs": [],
      "source": [
        "class Softmax:\n",
        "  def __init__(self, input_node , softmax_node):\n",
        "    self.weight = np.random.randn(input_node , softmax_node)/input_node\n",
        "    self.bias = np.zeros(softmax_node)\n",
        "\n",
        "  def forward_prop(self, image):\n",
        "\n",
        "    self.orig_im_shape = image.shape\n",
        "    image_modified = image.flatten()\n",
        "    self.modified_input = image_modified\n",
        "    output_val = np.dot(image_modified,self.weight) + self.bias\n",
        "    self.out = output_val\n",
        "    exp_out = np.exp(output_val)\n",
        "    return exp_out/np.sum(exp_out , axis= 0)\n",
        "\n",
        "  def back_prop(self, dL_dout, learning_rate):\n",
        "    for i ,grad in enumerate(dL_dout):\n",
        "      if grad == 0:\n",
        "        continue\n",
        "\n",
        "      transformation_eq = np.exp(self.out)\n",
        "      S_total = np.sum(transformation_eq)\n",
        "\n",
        "      dy_dz= -transformation_eq[i]* transformation_eq /(S_total **2)\n",
        "      dy_dz[i] = transformation_eq[i]*(S_total - transformation_eq[i])/(S_total**2)\n",
        "\n",
        "      dz_dw = self.modified_input\n",
        "      dz_db = 1\n",
        "      dz_d_inp = self.weight\n",
        "\n",
        "      dL_dz = grad * dy_dz\n",
        "\n",
        "      dL_dw = dz_dw [np.newaxis].T @ dL_dz[np.newaxis]\n",
        "      dL_db = dL_dz * dz_db\n",
        "      dL_d_inp =  dz_d_inp @ dL_dz\n",
        "\n",
        "\n",
        "      self.weight -= learning_rate *dL_dw\n",
        "      self.bias -= learning_rate * dL_db\n",
        "      return dL_d_inp.reshape(self.orig_im_shape)\n"
      ]
    },
    {
      "cell_type": "markdown",
      "metadata": {
        "id": "MisSh9gPcYMz"
      },
      "source": [
        "FINALLY DOWNLOADING THE MNIST DATA SET AND DOING THE TRAINING"
      ]
    },
    {
      "cell_type": "code",
      "source": [
        "from keras.datasets import mnist\n",
        "(x_train , y_train ) , (x_test , y_test) =  mnist.load_data()\n",
        "\n",
        "\n",
        "n = 500\n",
        "train_images =  x_train[:n]\n",
        "train_labels =  y_train[:n]\n",
        "test_images =  x_test[:n]\n",
        "test_labels = y_test[:n]"
      ],
      "metadata": {
        "id": "1bnMsNApNNkU"
      },
      "execution_count": null,
      "outputs": []
    },
    {
      "cell_type": "code",
      "source": [
        "plt.imshow(x_train[97])"
      ],
      "metadata": {
        "colab": {
          "base_uri": "https://localhost:8080/",
          "height": 282
        },
        "id": "STYowiLiNNzv",
        "outputId": "de5bd6aa-b4cf-4614-eadd-b7b895c9f46e"
      },
      "execution_count": null,
      "outputs": [
        {
          "output_type": "execute_result",
          "data": {
            "text/plain": [
              "<matplotlib.image.AxesImage at 0x7f239b6f61d0>"
            ]
          },
          "metadata": {},
          "execution_count": 39
        },
        {
          "output_type": "display_data",
          "data": {
            "text/plain": [
              "<Figure size 432x288 with 1 Axes>"
            ],
            "image/png": "[encoded data removed]"
          },
          "metadata": {
            "needs_background": "light"
          }
        }
      ]
    },
    {
      "cell_type": "code",
      "source": [],
      "metadata": {
        "id": "FGFAGKfVNN1v"
      },
      "execution_count": null,
      "outputs": []
    },
    {
      "cell_type": "code",
      "source": [],
      "metadata": {
        "id": "pdWVqS_jNN4S"
      },
      "execution_count": null,
      "outputs": []
    },
    {
      "cell_type": "code",
      "execution_count": null,
      "metadata": {
        "colab": {
          "base_uri": "https://localhost:8080/"
        },
        "id": "R1Vf26RbBYkd",
        "outputId": "27a826ed-7386-4f48-d0e1-0490a0bd7c5c"
      },
      "outputs": [
        {
          "output_type": "stream",
          "name": "stdout",
          "text": [
            "Epoch 1--->\n",
            "1 steps out of 500 steps: Average Loss  0.000 and Accuracy: 0.000000%\n",
            "101 steps out of 500 steps: Average Loss  2.370 and Accuracy: 0.090000%\n",
            "201 steps out of 500 steps: Average Loss  2.388 and Accuracy: 0.050000%\n",
            "301 steps out of 500 steps: Average Loss  2.356 and Accuracy: 0.090000%\n",
            "401 steps out of 500 steps: Average Loss  2.387 and Accuracy: 0.060000%\n",
            "14\n",
            "Epoch 2--->\n",
            "1 steps out of 500 steps: Average Loss  0.000 and Accuracy: 0.000000%\n",
            "101 steps out of 500 steps: Average Loss  2.365 and Accuracy: 0.120000%\n",
            "201 steps out of 500 steps: Average Loss  2.364 and Accuracy: 0.150000%\n",
            "301 steps out of 500 steps: Average Loss  2.318 and Accuracy: 0.190000%\n",
            "401 steps out of 500 steps: Average Loss  2.398 and Accuracy: 0.110000%\n",
            "6\n",
            "Epoch 3--->\n",
            "1 steps out of 500 steps: Average Loss  0.000 and Accuracy: 0.000000%\n",
            "101 steps out of 500 steps: Average Loss  2.396 and Accuracy: 0.070000%\n",
            "201 steps out of 500 steps: Average Loss  2.395 and Accuracy: 0.080000%\n",
            "301 steps out of 500 steps: Average Loss  2.402 and Accuracy: 0.070000%\n",
            "401 steps out of 500 steps: Average Loss  2.356 and Accuracy: 0.080000%\n",
            "13\n",
            "Epoch 4--->\n",
            "1 steps out of 500 steps: Average Loss  0.000 and Accuracy: 0.000000%\n",
            "101 steps out of 500 steps: Average Loss  2.352 and Accuracy: 0.080000%\n",
            "201 steps out of 500 steps: Average Loss  2.381 and Accuracy: 0.090000%\n",
            "301 steps out of 500 steps: Average Loss  2.330 and Accuracy: 0.160000%\n",
            "401 steps out of 500 steps: Average Loss  2.356 and Accuracy: 0.100000%\n",
            "10\n",
            "Epoch 5--->\n",
            "1 steps out of 500 steps: Average Loss  0.000 and Accuracy: 0.000000%\n",
            "101 steps out of 500 steps: Average Loss  2.352 and Accuracy: 0.140000%\n",
            "201 steps out of 500 steps: Average Loss  2.342 and Accuracy: 0.090000%\n",
            "301 steps out of 500 steps: Average Loss  2.313 and Accuracy: 0.130000%\n",
            "401 steps out of 500 steps: Average Loss  2.337 and Accuracy: 0.110000%\n",
            "13\n",
            "Epoch 6--->\n",
            "1 steps out of 500 steps: Average Loss  0.000 and Accuracy: 0.000000%\n",
            "101 steps out of 500 steps: Average Loss  2.347 and Accuracy: 0.130000%\n",
            "201 steps out of 500 steps: Average Loss  2.349 and Accuracy: 0.090000%\n",
            "301 steps out of 500 steps: Average Loss  2.345 and Accuracy: 0.110000%\n",
            "401 steps out of 500 steps: Average Loss  2.348 and Accuracy: 0.090000%\n",
            "10\n",
            "Epoch 7--->\n",
            "1 steps out of 500 steps: Average Loss  0.000 and Accuracy: 0.000000%\n",
            "101 steps out of 500 steps: Average Loss  2.327 and Accuracy: 0.110000%\n",
            "201 steps out of 500 steps: Average Loss  2.331 and Accuracy: 0.120000%\n",
            "301 steps out of 500 steps: Average Loss  2.332 and Accuracy: 0.130000%\n",
            "401 steps out of 500 steps: Average Loss  2.361 and Accuracy: 0.080000%\n",
            "13\n",
            "Epoch 8--->\n",
            "1 steps out of 500 steps: Average Loss  0.000 and Accuracy: 0.000000%\n",
            "101 steps out of 500 steps: Average Loss  2.378 and Accuracy: 0.090000%\n",
            "201 steps out of 500 steps: Average Loss  2.338 and Accuracy: 0.100000%\n",
            "301 steps out of 500 steps: Average Loss  2.349 and Accuracy: 0.090000%\n",
            "401 steps out of 500 steps: Average Loss  2.336 and Accuracy: 0.070000%\n",
            "9\n",
            "Epoch 9--->\n",
            "1 steps out of 500 steps: Average Loss  0.000 and Accuracy: 0.000000%\n",
            "101 steps out of 500 steps: Average Loss  2.311 and Accuracy: 0.170000%\n",
            "201 steps out of 500 steps: Average Loss  2.340 and Accuracy: 0.130000%\n",
            "301 steps out of 500 steps: Average Loss  2.350 and Accuracy: 0.090000%\n",
            "401 steps out of 500 steps: Average Loss  2.343 and Accuracy: 0.080000%\n",
            "15\n",
            "Epoch 10--->\n",
            "1 steps out of 500 steps: Average Loss  0.000 and Accuracy: 0.000000%\n",
            "101 steps out of 500 steps: Average Loss  2.331 and Accuracy: 0.110000%\n",
            "201 steps out of 500 steps: Average Loss  2.362 and Accuracy: 0.060000%\n",
            "301 steps out of 500 steps: Average Loss  2.379 and Accuracy: 0.080000%\n",
            "401 steps out of 500 steps: Average Loss  2.354 and Accuracy: 0.070000%\n",
            "8\n",
            "acc [2.8, 1.2, 2.6, 2.0, 2.6, 2.0, 2.6, 1.8, 3.0, 1.6]\n",
            "Testing Phase\n",
            "Test Loss: 2.33143455386631\n",
            "Test Accuracy: 10.0\n"
          ]
        }
      ],
      "source": [
        "conv = Conv_op (8,3)\n",
        "pool = Max_pool(2)\n",
        "softmax = Softmax(13*13*8,10)\n",
        "\n",
        "\n",
        "def cnn_forward_prop(image, label):\n",
        "\n",
        "  out_p = conv.forward_prop((image / 255)-0.5)\n",
        "  out_p  =  pool.forward_prop(out_p)\n",
        "  out_p = softmax.forward_prop(out_p)\n",
        "\n",
        "  cross_ent_loss = -np.log(out_p[label])\n",
        "  accuracy_eval = 1 if np.argmax(out_p) == label else 0\n",
        "\n",
        "  return out_p , cross_ent_loss , accuracy_eval\n",
        "\n",
        "\n",
        "def training_cnn(image,label,learn_rate= .005):\n",
        "\n",
        "  out,loss,acc = cnn_forward_prop(image, label)\n",
        "\n",
        "  gradient = np.zeros(10)\n",
        "  gradient[label] = -1/out[label]\n",
        "\n",
        "\n",
        "  grad_back = softmax.back_prop(gradient ,learn_rate)\n",
        "  grad_back = pool.back_prop(grad_back)\n",
        "  grad_back = conv.back_prop(grad_back, learn_rate)\n",
        "\n",
        "  return loss, acc\n",
        "\n",
        "\n",
        "accuracy_g = []\n",
        "for epoch1 in range(10):\n",
        "  print('Epoch %d--->'%(epoch1+1))\n",
        "\n",
        "  shuffle_data = np.random.permutation(len(train_images))\n",
        "  train_image = train_images[shuffle_data]\n",
        "  train_labels = train_labels[shuffle_data]\n",
        "\n",
        "  loss = 0\n",
        "  num_correct = 0\n",
        "  for i ,(im,label ) in enumerate(zip(train_image,train_labels)):\n",
        "    if i % 100 == 0:\n",
        "      print('%d steps out of %d steps: Average Loss  %.3f and Accuracy: %f%%' %(i+1,n,loss/100,num_correct/100))\n",
        "      loss=0\n",
        "      num_correct = 0\n",
        "\n",
        "    l1,accu = training_cnn(im, label)\n",
        "    loss+=l1\n",
        "    num_correct += accu\n",
        "  print(num_correct)\n",
        "  accuracy_g.append((num_correct*100)/n)\n",
        "\n",
        "\n",
        "print('acc', (accuracy_g))\n",
        "print('Testing Phase')\n",
        "loss= 0\n",
        "num_correct = 0\n",
        "for im, label in zip(test_images,test_labels):\n",
        "  _,l1,accu = cnn_forward_prop(im,label)\n",
        "  loss+=l1\n",
        "  num_correct+= accu\n",
        "\n",
        "\n",
        "num_tests = len(test_images)\n",
        "print('Test Loss:', (loss)/num_tests)\n",
        "print('Test Accuracy:',(num_correct*100)/num_tests)"
      ]
    },
    {
      "cell_type": "code",
      "execution_count": null,
      "metadata": {
        "id": "RS5LHZikGKAX"
      },
      "outputs": [],
      "source": []
    }
  ],
  "metadata": {
    "colab": {
      "provenance": []
    },
    "kernelspec": {
      "display_name": "Python 3",
      "name": "python3"
    },
    "language_info": {
      "name": "python"
    }
  },
  "nbformat": 4,
  "nbformat_minor": 0
}